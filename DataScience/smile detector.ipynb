{
 "cells": [
  {
   "cell_type": "code",
   "execution_count": 1,
   "id": "0d907fd7",
   "metadata": {},
   "outputs": [],
   "source": [
    "import cv2"
   ]
  },
  {
   "cell_type": "code",
   "execution_count": 3,
   "id": "31168238",
   "metadata": {},
   "outputs": [],
   "source": [
    "detector=cv2.CascadeClassifier('./haarcascade_smile.xml')"
   ]
  },
  {
   "cell_type": "code",
   "execution_count": 10,
   "id": "69324c7c",
   "metadata": {},
   "outputs": [],
   "source": [
    "cam=cv2.VideoCapture(0)\n",
    "\n",
    "while True:\n",
    "    ret,frame=cam.read()\n",
    "    \n",
    "    if(ret==False):\n",
    "        continue \n",
    "    \n",
    "    all_smiles=detector.detectMultiScale(frame,2,50)\n",
    "    \n",
    "    for smile in all_smiles:\n",
    "        x,y,w,h=smile\n",
    "        cv2.rectangle(frame,(x,y),(x+w,y+h),(0,0,255),2)\n",
    "        \n",
    "         \n",
    "#     if sorted_smile:\n",
    "#         x,y,w,h = sorted_smile[0]\n",
    "#         cv2.rectangle(frame, (x,y), (x+w, y+h),(0,0,255), 2 )\n",
    "    \n",
    "    cv2.imshow(\"Smile detector\",frame)\n",
    "    \n",
    "    key_pressed=cv2.waitKey(1) & 0xFF\n",
    "    if key_pressed==ord('q'):\n",
    "        break\n",
    "\n",
    "cam.release()\n",
    "cv2.destroyAllWindows()"
   ]
  },
  {
   "cell_type": "markdown",
   "id": "7ef182ef",
   "metadata": {},
   "source": [
    "### Python tutorials\n",
    "## Basics\n"
   ]
  },
  {
   "cell_type": "code",
   "execution_count": null,
   "id": "4e031375",
   "metadata": {},
   "outputs": [],
   "source": []
  },
  {
   "cell_type": "code",
   "execution_count": null,
   "id": "3a11954d",
   "metadata": {},
   "outputs": [],
   "source": []
  },
  {
   "cell_type": "code",
   "execution_count": null,
   "id": "11aeccac",
   "metadata": {},
   "outputs": [],
   "source": []
  }
 ],
 "metadata": {
  "kernelspec": {
   "display_name": "Python 3",
   "language": "python",
   "name": "python3"
  },
  "language_info": {
   "codemirror_mode": {
    "name": "ipython",
    "version": 3
   },
   "file_extension": ".py",
   "mimetype": "text/x-python",
   "name": "python",
   "nbconvert_exporter": "python",
   "pygments_lexer": "ipython3",
   "version": "3.8.8"
  }
 },
 "nbformat": 4,
 "nbformat_minor": 5
}
