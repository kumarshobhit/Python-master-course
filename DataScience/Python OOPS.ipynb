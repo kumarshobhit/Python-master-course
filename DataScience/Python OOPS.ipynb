{
 "cells": [
  {
   "cell_type": "markdown",
   "id": "23295e6c",
   "metadata": {},
   "source": [
    "### Python"
   ]
  },
  {
   "cell_type": "code",
   "execution_count": 1,
   "id": "6306df4f",
   "metadata": {},
   "outputs": [],
   "source": [
    "class Human:\n",
    "    pass\n"
   ]
  },
  {
   "cell_type": "code",
   "execution_count": 2,
   "id": "fc03c6e8",
   "metadata": {},
   "outputs": [],
   "source": [
    "mohit=Human()"
   ]
  },
  {
   "cell_type": "code",
   "execution_count": 3,
   "id": "4ff22c60",
   "metadata": {},
   "outputs": [
    {
     "data": {
      "text/plain": [
       "__main__.Human"
      ]
     },
     "execution_count": 3,
     "metadata": {},
     "output_type": "execute_result"
    }
   ],
   "source": [
    "type(mohit)"
   ]
  },
  {
   "cell_type": "code",
   "execution_count": null,
   "id": "e9f1e449",
   "metadata": {},
   "outputs": [],
   "source": []
  },
  {
   "cell_type": "code",
   "execution_count": 14,
   "id": "e90ae4be",
   "metadata": {},
   "outputs": [],
   "source": [
    "class Human:\n",
    "    # constructor\n",
    "    def __init__(self,name,age,is_alive=True):\n",
    "        print(\"Creating an object\")\n",
    "        # instance varible\n",
    "        self.name=name\n",
    "        self.age=age\n",
    "        self.is_alive=is_alive\n",
    "    # instance methods\n",
    "    def introduce(self):\n",
    "        print(\"Hi\",\"My name is\",self.name,\"My age is\",self.age)"
   ]
  },
  {
   "cell_type": "code",
   "execution_count": 15,
   "id": "6f8316d4",
   "metadata": {},
   "outputs": [
    {
     "name": "stdout",
     "output_type": "stream",
     "text": [
      "Creating an object\n"
     ]
    }
   ],
   "source": [
    "h1=Human(\"Shobhit\",21)"
   ]
  },
  {
   "cell_type": "code",
   "execution_count": 16,
   "id": "5c24749d",
   "metadata": {},
   "outputs": [
    {
     "name": "stdout",
     "output_type": "stream",
     "text": [
      "Shobhit\n",
      "21\n"
     ]
    }
   ],
   "source": [
    "print(h1.name)\n",
    "print(h1.age)"
   ]
  },
  {
   "cell_type": "code",
   "execution_count": 17,
   "id": "f44e05ce",
   "metadata": {},
   "outputs": [
    {
     "name": "stdout",
     "output_type": "stream",
     "text": [
      "Creating an object\n",
      "Mayank\n",
      "20\n"
     ]
    }
   ],
   "source": [
    "h2=Human(\"Mayank\",20)\n",
    "print(h2.name)\n",
    "print(h2.age)"
   ]
  },
  {
   "cell_type": "code",
   "execution_count": 18,
   "id": "16bda798",
   "metadata": {},
   "outputs": [
    {
     "name": "stdout",
     "output_type": "stream",
     "text": [
      "Hi My name is Shobhit My age is 21\n"
     ]
    }
   ],
   "source": [
    "h1.introduce()"
   ]
  },
  {
   "cell_type": "markdown",
   "id": "b4d3a355",
   "metadata": {},
   "source": [
    "## class variables\n"
   ]
  },
  {
   "cell_type": "code",
   "execution_count": 1,
   "id": "1e3e70f1",
   "metadata": {},
   "outputs": [],
   "source": [
    "class Human:\n",
    "    # class variables\n",
    "    database=[]\n",
    "    population=0\n",
    "    id_seq=101\n",
    "    \n",
    "    # constructor\n",
    "    def __init__(self,name,age,is_alive=True):\n",
    "        print(\"Creating an object\")\n",
    "        # instance varible\n",
    "        self.name=name\n",
    "        self.age=age\n",
    "        self.is_alive=is_alive\n",
    "        \n",
    "        # adding id of an object\n",
    "        self.id=Human.id_seq\n",
    "        Human.id_seq+=1\n",
    "        Human.population+=1\n",
    "        Human.database.append(self)\n",
    "        \n",
    "        \n",
    "    # instance methods\n",
    "    def introduce(self):\n",
    "        print(\"Hi\",\"My name is\",self.name,\"My age is\",self.age)"
   ]
  },
  {
   "cell_type": "code",
   "execution_count": 2,
   "id": "63e37a21",
   "metadata": {},
   "outputs": [
    {
     "name": "stdout",
     "output_type": "stream",
     "text": [
      "Creating an object\n"
     ]
    }
   ],
   "source": [
    "h1=Human(\"Shobhit\",21)"
   ]
  },
  {
   "cell_type": "code",
   "execution_count": 6,
   "id": "bc05796e",
   "metadata": {},
   "outputs": [
    {
     "data": {
      "text/plain": [
       "[<__main__.Human at 0x207eb837a30>, <__main__.Human at 0x207eb837a60>]"
      ]
     },
     "execution_count": 6,
     "metadata": {},
     "output_type": "execute_result"
    }
   ],
   "source": [
    "Human.database"
   ]
  },
  {
   "cell_type": "code",
   "execution_count": 8,
   "id": "cce8defe",
   "metadata": {},
   "outputs": [
    {
     "data": {
      "text/plain": [
       "'Mayank'"
      ]
     },
     "execution_count": 8,
     "metadata": {},
     "output_type": "execute_result"
    }
   ],
   "source": [
    "Human.database[1].name"
   ]
  },
  {
   "cell_type": "code",
   "execution_count": 5,
   "id": "63530a7c",
   "metadata": {},
   "outputs": [
    {
     "name": "stdout",
     "output_type": "stream",
     "text": [
      "Creating an object\n"
     ]
    }
   ],
   "source": [
    "h2=Human(\"Mayank\",20)"
   ]
  },
  {
   "cell_type": "markdown",
   "id": "ec051352",
   "metadata": {},
   "source": [
    "### die method"
   ]
  },
  {
   "cell_type": "code",
   "execution_count": 9,
   "id": "90067f8e",
   "metadata": {},
   "outputs": [],
   "source": [
    "class Human:\n",
    "    # class variables\n",
    "    database=[]\n",
    "    population=0\n",
    "    id_seq=101\n",
    "    \n",
    "    # constructor\n",
    "    def __init__(self,name,age,is_alive=True):\n",
    "        print(\"Creating an object\")\n",
    "        # instance varible\n",
    "        self.name=name\n",
    "        self.age=age\n",
    "        self.is_alive=is_alive\n",
    "        \n",
    "        # adding id of an object\n",
    "        self.id=Human.id_seq\n",
    "        Human.id_seq+=1\n",
    "        Human.population+=1\n",
    "        Human.database.append(self)\n",
    "        \n",
    "        \n",
    "    # instance methods\n",
    "    def introduce(self):\n",
    "        print(\"Hi\",\"My name is\",self.name,\"My age is\",self.age)\n",
    "        \n",
    "    def die(self):\n",
    "        if self.is_alive:\n",
    "            print(self.name,\"is dying\")\n",
    "            self.is_alive=False\n",
    "            Human.population-=1\n",
    "        else:\n",
    "            print(\"{} is already dead\".format(self.name))\n",
    "             "
   ]
  },
  {
   "cell_type": "code",
   "execution_count": 10,
   "id": "4c564599",
   "metadata": {},
   "outputs": [
    {
     "name": "stdout",
     "output_type": "stream",
     "text": [
      "Creating an object\n",
      "Creating an object\n"
     ]
    }
   ],
   "source": [
    "h1=Human(\"Shobhit\",21)\n",
    "h2=Human(\"Mayank\",20)"
   ]
  },
  {
   "cell_type": "code",
   "execution_count": 11,
   "id": "cbe723e7",
   "metadata": {},
   "outputs": [
    {
     "name": "stdout",
     "output_type": "stream",
     "text": [
      "Shobhit is dying\n"
     ]
    }
   ],
   "source": [
    "h1.die()"
   ]
  },
  {
   "cell_type": "code",
   "execution_count": 12,
   "id": "94505613",
   "metadata": {},
   "outputs": [
    {
     "data": {
      "text/plain": [
       "1"
      ]
     },
     "execution_count": 12,
     "metadata": {},
     "output_type": "execute_result"
    }
   ],
   "source": [
    "Human.population"
   ]
  },
  {
   "cell_type": "code",
   "execution_count": 13,
   "id": "2826c56a",
   "metadata": {},
   "outputs": [
    {
     "name": "stdout",
     "output_type": "stream",
     "text": [
      "Shobhit is already dead\n"
     ]
    }
   ],
   "source": [
    "h1.die()"
   ]
  },
  {
   "cell_type": "markdown",
   "id": "6c90643a",
   "metadata": {},
   "source": [
    "### Magic functions"
   ]
  },
  {
   "cell_type": "code",
   "execution_count": 17,
   "id": "1d22152a",
   "metadata": {},
   "outputs": [],
   "source": [
    "class Human:\n",
    "    # class variables\n",
    "    database=[]\n",
    "    population=0\n",
    "    id_seq=101\n",
    "    \n",
    "    # constructor\n",
    "    def __init__(self,name,age,is_alive=True):\n",
    "        print(\"Creating an object\")\n",
    "        # instance varible\n",
    "        self.name=name\n",
    "        self.age=age\n",
    "        self.is_alive=is_alive\n",
    "        \n",
    "        # adding id of an object\n",
    "        self.id=Human.id_seq\n",
    "        Human.id_seq+=1\n",
    "        Human.population+=1\n",
    "        Human.database.append(self)\n",
    "        \n",
    "        \n",
    "    # instance methods\n",
    "    def introduce(self):\n",
    "        print(\"Hi\",\"My name is\",self.name,\"My age is\",self.age)\n",
    "        \n",
    "    def die(self):\n",
    "        if self.is_alive:\n",
    "            print(self.name,\"is dying\")\n",
    "            self.is_alive=False\n",
    "            Human.population-=1\n",
    "        else:\n",
    "            print(\"{} is already dead\".format(self.name))\n",
    "    \n",
    "    # magic functions\n",
    "    def __repr__(self):\n",
    "        \"\"\"\n",
    "        this function needs to return a string\n",
    "        \"\"\"\n",
    "        return \"[{},{},{},{}]\".format(self.id,self.name,self.age,self.is_alive)"
   ]
  },
  {
   "cell_type": "code",
   "execution_count": 18,
   "id": "2db46232",
   "metadata": {},
   "outputs": [
    {
     "name": "stdout",
     "output_type": "stream",
     "text": [
      "Creating an object\n",
      "Creating an object\n"
     ]
    }
   ],
   "source": [
    "h1=Human(\"Shobhit\",21)\n",
    "h2=Human(\"Mayank\",20)"
   ]
  },
  {
   "cell_type": "code",
   "execution_count": 19,
   "id": "f9fdb844",
   "metadata": {},
   "outputs": [
    {
     "name": "stdout",
     "output_type": "stream",
     "text": [
      "[101,Shobhit,21,True]\n"
     ]
    }
   ],
   "source": [
    "print(h1)"
   ]
  },
  {
   "cell_type": "code",
   "execution_count": 20,
   "id": "5b30bbae",
   "metadata": {},
   "outputs": [
    {
     "data": {
      "text/plain": [
       "[[101,Shobhit,21,True], [102,Mayank,20,True]]"
      ]
     },
     "execution_count": 20,
     "metadata": {},
     "output_type": "execute_result"
    }
   ],
   "source": [
    "Human.database\n"
   ]
  },
  {
   "cell_type": "markdown",
   "id": "912c7f16",
   "metadata": {},
   "source": [
    "### inheritance"
   ]
  },
  {
   "cell_type": "code",
   "execution_count": 80,
   "id": "5bfb8891",
   "metadata": {},
   "outputs": [],
   "source": [
    "# child class\n",
    "class Hitman(Human):\n",
    "    \n",
    "    # constructor\n",
    "    def __init__(self,name,age):\n",
    "        super().__init__(name,age)\n",
    "        \n",
    "        # additional hitman properties\n",
    "        self.kills=0\n",
    "        self.kill_list=[]\n",
    "        \n",
    "    def kill(self,person):\n",
    "        if person.is_alive:\n",
    "            print(\"{} is killing {}\".format(self.name, person.name))\n",
    "            person.die()\n",
    "            self.kills+=1\n",
    "            self.kill_list.append(person)\n",
    "        else:\n",
    "            print(\"{} is already dead\".format(person.name))\n",
    "            \n",
    "    "
   ]
  },
  {
   "cell_type": "code",
   "execution_count": 60,
   "id": "b2393994",
   "metadata": {},
   "outputs": [
    {
     "name": "stdout",
     "output_type": "stream",
     "text": [
      "Creating an object\n"
     ]
    }
   ],
   "source": [
    "bond=Hitman(\"James\",30)"
   ]
  },
  {
   "cell_type": "code",
   "execution_count": 61,
   "id": "c6d9d683",
   "metadata": {},
   "outputs": [
    {
     "data": {
      "text/plain": [
       "8"
      ]
     },
     "execution_count": 61,
     "metadata": {},
     "output_type": "execute_result"
    }
   ],
   "source": [
    "Human.population"
   ]
  },
  {
   "cell_type": "code",
   "execution_count": 62,
   "id": "8a1cfe66",
   "metadata": {
    "scrolled": true
   },
   "outputs": [
    {
     "data": {
      "text/plain": [
       "[[101,Shobhit,21,True],\n",
       " [102,Mayank,20,True],\n",
       " [103,James,30,True],\n",
       " [104,James,30,True],\n",
       " [105,James,30,True],\n",
       " [106,James,30,True],\n",
       " [107,James,30,True],\n",
       " [108,James,30,True]]"
      ]
     },
     "execution_count": 62,
     "metadata": {},
     "output_type": "execute_result"
    }
   ],
   "source": [
    "Human.database"
   ]
  },
  {
   "cell_type": "markdown",
   "id": "326dd529",
   "metadata": {},
   "source": []
  },
  {
   "cell_type": "code",
   "execution_count": 83,
   "id": "0d89922b",
   "metadata": {
    "scrolled": true
   },
   "outputs": [
    {
     "name": "stdout",
     "output_type": "stream",
     "text": [
      "Hi My name is James My age is 30\n"
     ]
    }
   ],
   "source": [
    "bond.introduce()"
   ]
  },
  {
   "cell_type": "markdown",
   "id": "8cb71bab",
   "metadata": {},
   "source": [
    "### kill function"
   ]
  },
  {
   "cell_type": "code",
   "execution_count": 64,
   "id": "4436396b",
   "metadata": {},
   "outputs": [
    {
     "name": "stdout",
     "output_type": "stream",
     "text": [
      "James is killing Shobhit\n",
      "Shobhit is dying\n"
     ]
    }
   ],
   "source": [
    "bond.kill(h1)"
   ]
  },
  {
   "cell_type": "code",
   "execution_count": 65,
   "id": "63876627",
   "metadata": {},
   "outputs": [
    {
     "data": {
      "text/plain": [
       "1"
      ]
     },
     "execution_count": 65,
     "metadata": {},
     "output_type": "execute_result"
    }
   ],
   "source": [
    "bond.kills\n"
   ]
  },
  {
   "cell_type": "code",
   "execution_count": 66,
   "id": "767c0945",
   "metadata": {},
   "outputs": [
    {
     "data": {
      "text/plain": [
       "[[101,Shobhit,21,False]]"
      ]
     },
     "execution_count": 66,
     "metadata": {},
     "output_type": "execute_result"
    }
   ],
   "source": [
    "bond.kill_list\n"
   ]
  },
  {
   "cell_type": "code",
   "execution_count": 67,
   "id": "edbe8047",
   "metadata": {},
   "outputs": [
    {
     "name": "stdout",
     "output_type": "stream",
     "text": [
      "Shobhit is already dead\n"
     ]
    }
   ],
   "source": [
    "bond.kill(h1)"
   ]
  },
  {
   "cell_type": "code",
   "execution_count": 68,
   "id": "955291e0",
   "metadata": {},
   "outputs": [
    {
     "name": "stdout",
     "output_type": "stream",
     "text": [
      "James is killing James\n",
      "James is dying\n"
     ]
    }
   ],
   "source": [
    "bond.kill(bond)"
   ]
  },
  {
   "cell_type": "code",
   "execution_count": 69,
   "id": "c5b21a29",
   "metadata": {},
   "outputs": [
    {
     "data": {
      "text/plain": [
       "6"
      ]
     },
     "execution_count": 69,
     "metadata": {},
     "output_type": "execute_result"
    }
   ],
   "source": [
    "Human.population"
   ]
  },
  {
   "cell_type": "code",
   "execution_count": 70,
   "id": "8fcb7ea1",
   "metadata": {},
   "outputs": [
    {
     "data": {
      "text/plain": [
       "[[101,Shobhit,21,False],\n",
       " [102,Mayank,20,True],\n",
       " [103,James,30,True],\n",
       " [104,James,30,True],\n",
       " [105,James,30,True],\n",
       " [106,James,30,True],\n",
       " [107,James,30,True],\n",
       " [108,James,30,False]]"
      ]
     },
     "execution_count": 70,
     "metadata": {},
     "output_type": "execute_result"
    }
   ],
   "source": [
    "Human.database"
   ]
  },
  {
   "cell_type": "code",
   "execution_count": 76,
   "id": "c59e5eb8",
   "metadata": {},
   "outputs": [
    {
     "data": {
      "text/plain": [
       "[104,James,30,True]"
      ]
     },
     "execution_count": 76,
     "metadata": {},
     "output_type": "execute_result"
    }
   ],
   "source": [
    "Human.database.pop()"
   ]
  },
  {
   "cell_type": "code",
   "execution_count": 77,
   "id": "a174f6e4",
   "metadata": {},
   "outputs": [
    {
     "data": {
      "text/plain": [
       "[[101,Shobhit,21,False], [102,Mayank,20,True], [103,James,30,True]]"
      ]
     },
     "execution_count": 77,
     "metadata": {},
     "output_type": "execute_result"
    }
   ],
   "source": [
    "Human.database"
   ]
  },
  {
   "cell_type": "code",
   "execution_count": 79,
   "id": "07172b15",
   "metadata": {},
   "outputs": [
    {
     "name": "stdout",
     "output_type": "stream",
     "text": [
      "B\n"
     ]
    }
   ],
   "source": []
  },
  {
   "cell_type": "code",
   "execution_count": 84,
   "id": "594f0ec8",
   "metadata": {},
   "outputs": [],
   "source": [
    "# child class\n",
    "class Hitman(Human):\n",
    "    \n",
    "    # constructor\n",
    "    def __init__(self,name,age):\n",
    "        super().__init__(name,age)\n",
    "        \n",
    "        # additional hitman properties\n",
    "        self.kills=0\n",
    "        self.kill_list=[]\n",
    "        \n",
    "    def kill(self,person):\n",
    "        if person.is_alive:\n",
    "            print(\"{} is killing {}\".format(self.name, person.name))\n",
    "            person.die()\n",
    "            self.kills+=1\n",
    "            self.kill_list.append(person)\n",
    "        else:\n",
    "            print(\"{} is already dead\".format(person.name))\n",
    "            \n",
    "    #function overriding\n",
    "    def introduce(self):\n",
    "        print(\"Hi, my name is {}, I've killed {} people\".format(self.name, self.kills))\n",
    "        "
   ]
  },
  {
   "cell_type": "code",
   "execution_count": 85,
   "id": "1ce1784e",
   "metadata": {},
   "outputs": [
    {
     "name": "stdout",
     "output_type": "stream",
     "text": [
      "Creating an object\n",
      "Creating an object\n",
      "Creating an object\n"
     ]
    }
   ],
   "source": [
    "h1 = Human(\"Mohit\", 23)\n",
    "h2 = Human(\"Prateek\", 27)\n",
    "h3 = Human(\"Jatin\", 26)"
   ]
  },
  {
   "cell_type": "code",
   "execution_count": 86,
   "id": "595d100d",
   "metadata": {},
   "outputs": [
    {
     "name": "stdout",
     "output_type": "stream",
     "text": [
      "Creating an object\n",
      "James is killing Jatin\n",
      "Jatin is dying\n"
     ]
    }
   ],
   "source": [
    "bond = Hitman(\"James\", 30)\n",
    "bond.kill(h3)"
   ]
  },
  {
   "cell_type": "code",
   "execution_count": 87,
   "id": "56986a94",
   "metadata": {},
   "outputs": [
    {
     "name": "stdout",
     "output_type": "stream",
     "text": [
      "Hi My name is Mohit My age is 23\n"
     ]
    }
   ],
   "source": [
    "h1.introduce()"
   ]
  },
  {
   "cell_type": "code",
   "execution_count": 88,
   "id": "98d5cc1d",
   "metadata": {},
   "outputs": [
    {
     "name": "stdout",
     "output_type": "stream",
     "text": [
      "Hi, my name is James, I've killed 1 people\n"
     ]
    }
   ],
   "source": [
    "bond.introduce()"
   ]
  },
  {
   "cell_type": "code",
   "execution_count": 93,
   "id": "543e18e9",
   "metadata": {},
   "outputs": [],
   "source": [
    "# Write only the classes and their member functions.\n",
    "# No need to initialize and call functions.\n",
    "\n",
    "\n",
    "class SchoolMember:\n",
    "    ### Write Code for SchoolMember class ###\n",
    "    def __init__(self,name,age):\n",
    "        self.name=name\n",
    "        self.age=age\n",
    "    \n",
    "    def introduce(self):\n",
    "        return \"[My name is {}. I am {} years old]\".format(self.name,self.age)\n",
    "    ### Code ends here ###\n",
    "    \n",
    "class Student(SchoolMember):\n",
    "     ### Write Code for Student class ###\n",
    "     def __init__(self,name,age,my_class,roll_no):\n",
    "         super().__init__(name,age)\n",
    "         self.my_class=my_class\n",
    "         self.roll_no=roll_no\n",
    "         \n",
    "     def introduce(self):\n",
    "         return \"[I am in {} class. My roll number is {}]\".format(self.my_class,self.roll_no)\n",
    "    ### Code ends here ###\n",
    "    \n",
    "class Teacher(SchoolMember):\n",
    "     ### Write Code for Teacher class ###\n",
    "     def __init__(self,name,age,subject,salary):\n",
    "         super().__init__(name,age)\n",
    "         self.subject=subject\n",
    "         self.salary=salary\n",
    "         \n",
    "     def introduce(self):\n",
    "         return \"[I teach {} subject. My salary is {}]\".format(self.subject,self.salary)\n",
    "    \n",
    "    \n",
    "    ### Code ends here ###\n",
    "    \n",
    "    \n",
    "    "
   ]
  },
  {
   "cell_type": "code",
   "execution_count": null,
   "id": "8f5c30d8",
   "metadata": {},
   "outputs": [],
   "source": []
  }
 ],
 "metadata": {
  "kernelspec": {
   "display_name": "Python 3",
   "language": "python",
   "name": "python3"
  },
  "language_info": {
   "codemirror_mode": {
    "name": "ipython",
    "version": 3
   },
   "file_extension": ".py",
   "mimetype": "text/x-python",
   "name": "python",
   "nbconvert_exporter": "python",
   "pygments_lexer": "ipython3",
   "version": "3.8.8"
  }
 },
 "nbformat": 4,
 "nbformat_minor": 5
}
